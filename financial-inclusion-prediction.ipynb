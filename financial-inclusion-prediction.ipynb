{
 "cells": [
  {
   "cell_type": "markdown",
   "id": "474238c6-bd91-4b58-97cf-6cb80c4a9def",
   "metadata": {},
   "source": [
    "# Financial Iclusion Prediction"
   ]
  },
  {
   "cell_type": "code",
   "execution_count": null,
   "id": "d5de18bb-188d-4b87-b728-a0dcaf851e58",
   "metadata": {},
   "outputs": [],
   "source": []
  }
 ],
 "metadata": {
  "kernelspec": {
   "display_name": "Python 3 (ipykernel)",
   "language": "python",
   "name": "python3"
  },
  "language_info": {
   "codemirror_mode": {
    "name": "ipython",
    "version": 3
   },
   "file_extension": ".py",
   "mimetype": "text/x-python",
   "name": "python",
   "nbconvert_exporter": "python",
   "pygments_lexer": "ipython3",
   "version": "3.11.5"
  }
 },
 "nbformat": 4,
 "nbformat_minor": 5
}
